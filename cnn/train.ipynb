{
 "metadata": {
  "language_info": {
   "codemirror_mode": {
    "name": "ipython",
    "version": 3
   },
   "file_extension": ".py",
   "mimetype": "text/x-python",
   "name": "python",
   "nbconvert_exporter": "python",
   "pygments_lexer": "ipython3",
   "version": "3.8.5"
  },
  "orig_nbformat": 2,
  "kernelspec": {
   "name": "python3",
   "display_name": "Python 3.8.5 64-bit ('miniconda3': virtualenv)",
   "metadata": {
    "interpreter": {
     "hash": "abdd411cf37bf257d11f157917419861fc83d57b01e2aeb0ea4594a8c0bf2b45"
    }
   }
  }
 },
 "nbformat": 4,
 "nbformat_minor": 2,
 "cells": [
  {
   "cell_type": "code",
   "execution_count": 1,
   "metadata": {},
   "outputs": [],
   "source": [
    "import numpy as np\n",
    "import pandas as pd\n",
    "import os\n",
    "import sys\n",
    "from sklearn.preprocessing import MinMaxScaler\n",
    "from sklearn.model_selection import train_test_split\n",
    "from sklearn.metrics import classification_report, confusion_matrix\n",
    "from sklearn.ensemble import RandomForestClassifier\n",
    "from collections import Counter"
   ]
  },
  {
   "cell_type": "code",
   "execution_count": 2,
   "metadata": {},
   "outputs": [
    {
     "output_type": "execute_result",
     "data": {
      "text/plain": [
       "                                      filename accent sex      mfccs0  \\\n",
       "0  /home/andriy/diploma/data/p253/p253_157.wav  Welsh   F -296.041776   \n",
       "1  /home/andriy/diploma/data/p253/p253_157.wav  Welsh   F -356.328819   \n",
       "2  /home/andriy/diploma/data/p253/p253_157.wav  Welsh   F -282.376877   \n",
       "3  /home/andriy/diploma/data/p253/p253_157.wav  Welsh   F -674.073670   \n",
       "4  /home/andriy/diploma/data/p253/p253_212.wav  Welsh   F -245.017414   \n",
       "\n",
       "       mfccs1     mfccs2     mfccs3    mfccs4     mfccs5    mfccs6  ...  \\\n",
       "0   51.941099   0.088696  50.687054  9.213817 -12.981535  1.850823  ...   \n",
       "1   93.436145 -17.151477  22.421282  3.484256 -13.635613 -4.414813  ...   \n",
       "2  101.381353   3.877998  45.399120  8.878545 -12.205636 -7.659885  ...   \n",
       "3   23.652606   4.435798   5.978649  4.340026   0.518874  0.819069  ...   \n",
       "4  105.910309 -10.985298  33.220717  1.593071 -16.215820 -4.077472  ...   \n",
       "\n",
       "     mfccs10    mfccs11   mfccs12   mfccs13   mfccs14   mfccs15   mfccs16  \\\n",
       "0  -6.183682   7.018186 -0.891467  1.275083 -1.895707 -4.575062 -2.737582   \n",
       "1  -4.443295   9.623238  3.269109  0.699366 -5.421590 -6.574583 -0.331185   \n",
       "2 -10.836675  12.564437 -2.747082 -5.155890 -3.400530 -1.569530 -5.838708   \n",
       "3  -0.839658   0.379472 -2.710150  0.808823  0.418095 -2.286779 -1.532727   \n",
       "4  -4.594752  10.076008 -5.074755  0.103556 -9.785228 -4.852409 -6.474127   \n",
       "\n",
       "    mfccs17   mfccs18   mfccs19  \n",
       "0  2.220370 -0.677952 -0.549451  \n",
       "1 -2.762748  3.479336 -0.982944  \n",
       "2 -1.498904  0.338190  0.673177  \n",
       "3 -0.224329 -1.867465 -0.597333  \n",
       "4 -0.022581 -2.028267 -6.460203  \n",
       "\n",
       "[5 rows x 23 columns]"
      ],
      "text/html": "<div>\n<style scoped>\n    .dataframe tbody tr th:only-of-type {\n        vertical-align: middle;\n    }\n\n    .dataframe tbody tr th {\n        vertical-align: top;\n    }\n\n    .dataframe thead th {\n        text-align: right;\n    }\n</style>\n<table border=\"1\" class=\"dataframe\">\n  <thead>\n    <tr style=\"text-align: right;\">\n      <th></th>\n      <th>filename</th>\n      <th>accent</th>\n      <th>sex</th>\n      <th>mfccs0</th>\n      <th>mfccs1</th>\n      <th>mfccs2</th>\n      <th>mfccs3</th>\n      <th>mfccs4</th>\n      <th>mfccs5</th>\n      <th>mfccs6</th>\n      <th>...</th>\n      <th>mfccs10</th>\n      <th>mfccs11</th>\n      <th>mfccs12</th>\n      <th>mfccs13</th>\n      <th>mfccs14</th>\n      <th>mfccs15</th>\n      <th>mfccs16</th>\n      <th>mfccs17</th>\n      <th>mfccs18</th>\n      <th>mfccs19</th>\n    </tr>\n  </thead>\n  <tbody>\n    <tr>\n      <th>0</th>\n      <td>/home/andriy/diploma/data/p253/p253_157.wav</td>\n      <td>Welsh</td>\n      <td>F</td>\n      <td>-296.041776</td>\n      <td>51.941099</td>\n      <td>0.088696</td>\n      <td>50.687054</td>\n      <td>9.213817</td>\n      <td>-12.981535</td>\n      <td>1.850823</td>\n      <td>...</td>\n      <td>-6.183682</td>\n      <td>7.018186</td>\n      <td>-0.891467</td>\n      <td>1.275083</td>\n      <td>-1.895707</td>\n      <td>-4.575062</td>\n      <td>-2.737582</td>\n      <td>2.220370</td>\n      <td>-0.677952</td>\n      <td>-0.549451</td>\n    </tr>\n    <tr>\n      <th>1</th>\n      <td>/home/andriy/diploma/data/p253/p253_157.wav</td>\n      <td>Welsh</td>\n      <td>F</td>\n      <td>-356.328819</td>\n      <td>93.436145</td>\n      <td>-17.151477</td>\n      <td>22.421282</td>\n      <td>3.484256</td>\n      <td>-13.635613</td>\n      <td>-4.414813</td>\n      <td>...</td>\n      <td>-4.443295</td>\n      <td>9.623238</td>\n      <td>3.269109</td>\n      <td>0.699366</td>\n      <td>-5.421590</td>\n      <td>-6.574583</td>\n      <td>-0.331185</td>\n      <td>-2.762748</td>\n      <td>3.479336</td>\n      <td>-0.982944</td>\n    </tr>\n    <tr>\n      <th>2</th>\n      <td>/home/andriy/diploma/data/p253/p253_157.wav</td>\n      <td>Welsh</td>\n      <td>F</td>\n      <td>-282.376877</td>\n      <td>101.381353</td>\n      <td>3.877998</td>\n      <td>45.399120</td>\n      <td>8.878545</td>\n      <td>-12.205636</td>\n      <td>-7.659885</td>\n      <td>...</td>\n      <td>-10.836675</td>\n      <td>12.564437</td>\n      <td>-2.747082</td>\n      <td>-5.155890</td>\n      <td>-3.400530</td>\n      <td>-1.569530</td>\n      <td>-5.838708</td>\n      <td>-1.498904</td>\n      <td>0.338190</td>\n      <td>0.673177</td>\n    </tr>\n    <tr>\n      <th>3</th>\n      <td>/home/andriy/diploma/data/p253/p253_157.wav</td>\n      <td>Welsh</td>\n      <td>F</td>\n      <td>-674.073670</td>\n      <td>23.652606</td>\n      <td>4.435798</td>\n      <td>5.978649</td>\n      <td>4.340026</td>\n      <td>0.518874</td>\n      <td>0.819069</td>\n      <td>...</td>\n      <td>-0.839658</td>\n      <td>0.379472</td>\n      <td>-2.710150</td>\n      <td>0.808823</td>\n      <td>0.418095</td>\n      <td>-2.286779</td>\n      <td>-1.532727</td>\n      <td>-0.224329</td>\n      <td>-1.867465</td>\n      <td>-0.597333</td>\n    </tr>\n    <tr>\n      <th>4</th>\n      <td>/home/andriy/diploma/data/p253/p253_212.wav</td>\n      <td>Welsh</td>\n      <td>F</td>\n      <td>-245.017414</td>\n      <td>105.910309</td>\n      <td>-10.985298</td>\n      <td>33.220717</td>\n      <td>1.593071</td>\n      <td>-16.215820</td>\n      <td>-4.077472</td>\n      <td>...</td>\n      <td>-4.594752</td>\n      <td>10.076008</td>\n      <td>-5.074755</td>\n      <td>0.103556</td>\n      <td>-9.785228</td>\n      <td>-4.852409</td>\n      <td>-6.474127</td>\n      <td>-0.022581</td>\n      <td>-2.028267</td>\n      <td>-6.460203</td>\n    </tr>\n  </tbody>\n</table>\n<p>5 rows × 23 columns</p>\n</div>"
     },
     "metadata": {},
     "execution_count": 2
    }
   ],
   "source": [
    "df = pd.read_pickle('gradient_boosting_data.pkl')\n",
    "df_accent_mfccs = df.drop(['filename', 'sex'], axis=1)\n",
    "df.head()"
   ]
  },
  {
   "cell_type": "code",
   "execution_count": 3,
   "metadata": {},
   "outputs": [
    {
     "output_type": "stream",
     "name": "stdout",
     "text": [
      "10376 1297 1298\n"
     ]
    }
   ],
   "source": [
    "train, other = train_test_split(df_accent_mfccs, test_size=0.2, random_state=42, shuffle=True)\n",
    "dev, test = train_test_split(other, test_size=0.5, random_state=21, shuffle=True)\n",
    "print(len(train), len(dev), len(test))"
   ]
  },
  {
   "cell_type": "code",
   "execution_count": 4,
   "metadata": {},
   "outputs": [],
   "source": [
    "X_test = test.drop('accent', axis=1) # setting up test set without 'ground truth'\n",
    "y_train = train['accent'] # setting up y_train\n",
    "X_train = train.drop('accent', axis=1)"
   ]
  },
  {
   "cell_type": "code",
   "execution_count": 5,
   "metadata": {},
   "outputs": [
    {
     "output_type": "execute_result",
     "data": {
      "text/plain": [
       "     accent      mfccs0      mfccs1     mfccs2     mfccs3     mfccs4  \\\n",
       "3473     NY -315.684000   64.057711  11.377439  16.847353  11.260903   \n",
       "3785     NY -249.983591   56.778504  17.730473  19.488555  14.532860   \n",
       "3488     NY -335.964045  124.559715 -16.602319  29.681405  16.476776   \n",
       "2684     NY -347.140084   65.882821  10.532875  49.398033  33.848959   \n",
       "2901     NY -285.799187  148.472243 -32.169172  13.709389   6.020103   \n",
       "...     ...         ...         ...        ...        ...        ...   \n",
       "4192     NY -671.087438   18.319633  12.732671  10.608754   6.210724   \n",
       "2884     NY -336.325266  124.492555 -10.363928  45.119428  13.119256   \n",
       "2968     NY -306.735686  111.010031  -6.130443  20.425648  17.454349   \n",
       "3461     NY -369.920710  118.827614  -2.133068  40.763423  17.986700   \n",
       "3207     NY -656.467171   37.938294  -0.631503  -0.274339  -2.588025   \n",
       "\n",
       "         mfccs5    mfccs6     mfccs7     mfccs8  ...    mfccs10    mfccs11  \\\n",
       "3473   7.321917 -6.419385 -12.058146 -13.125508  ...  -2.706626   1.355585   \n",
       "3785  20.135691 -4.970480   1.838099  -7.577799  ...  -4.255254   4.918007   \n",
       "3488  -5.920455 -3.714903 -10.468281 -21.880210  ...   8.459588  -1.487675   \n",
       "2684  -6.854187 -3.470883   0.508582 -17.363390  ... -11.979601   5.815153   \n",
       "2901  -6.377009  7.605956  -5.828789  -6.214596  ...  -2.803075  13.576090   \n",
       "...         ...       ...        ...        ...  ...        ...        ...   \n",
       "4192  10.476397 -2.005354   3.658579   0.847810  ...  -1.561119   3.490176   \n",
       "2884 -16.040718  9.205787 -20.220642 -17.490012  ...   5.554061  -3.479373   \n",
       "2968 -11.105028  0.267787 -12.879790 -10.424200  ...   0.617347   1.547278   \n",
       "3461   4.911760 -3.569136  -4.817815 -15.155285  ...   3.323317   7.338819   \n",
       "3207   0.130875  3.938869  -0.204856  -3.617678  ...   1.422223   4.596370   \n",
       "\n",
       "       mfccs12    mfccs13   mfccs14    mfccs15    mfccs16   mfccs17   mfccs18  \\\n",
       "3473 -1.632106  12.641259 -4.530686  -4.926789 -12.490177  9.865918 -4.825944   \n",
       "3785  0.476569   6.830578  2.606572   9.964627  -3.045495  5.032616 -2.974392   \n",
       "3488 -4.613981   9.805680 -3.636208  -6.338505  -5.654107  6.897563 -3.024430   \n",
       "2684 -1.598509   3.251070 -0.464801   2.296375 -10.169611  3.683526 -0.122838   \n",
       "2901 -4.958839   0.794025 -1.813345  -3.828533 -13.908582 -2.264513  2.176093   \n",
       "...        ...        ...       ...        ...        ...       ...       ...   \n",
       "4192  2.889945   2.288380  3.016351   5.638700  -0.354110  2.457570 -1.251288   \n",
       "2884 -2.915867   9.569522 -3.258782  -2.471802  -8.761307  3.768359 -3.227055   \n",
       "2968 -1.901814   6.000685 -5.848395 -10.216965 -11.342336  4.557373 -3.890743   \n",
       "3461 -0.717833   6.776086 -1.902774  -8.192167  -5.178996  3.168638  2.393556   \n",
       "3207 -1.896338   1.510317 -3.064696   0.182154  -0.918049 -0.872030  1.473430   \n",
       "\n",
       "       mfccs19  \n",
       "3473 -0.445013  \n",
       "3785 -0.814757  \n",
       "3488 -2.330331  \n",
       "2684  3.475417  \n",
       "2901 -3.818351  \n",
       "...        ...  \n",
       "4192  0.862678  \n",
       "2884 -2.483960  \n",
       "2968 -1.810216  \n",
       "3461 -3.148887  \n",
       "3207 -1.950104  \n",
       "\n",
       "[202 rows x 21 columns]"
      ],
      "text/html": "<div>\n<style scoped>\n    .dataframe tbody tr th:only-of-type {\n        vertical-align: middle;\n    }\n\n    .dataframe tbody tr th {\n        vertical-align: top;\n    }\n\n    .dataframe thead th {\n        text-align: right;\n    }\n</style>\n<table border=\"1\" class=\"dataframe\">\n  <thead>\n    <tr style=\"text-align: right;\">\n      <th></th>\n      <th>accent</th>\n      <th>mfccs0</th>\n      <th>mfccs1</th>\n      <th>mfccs2</th>\n      <th>mfccs3</th>\n      <th>mfccs4</th>\n      <th>mfccs5</th>\n      <th>mfccs6</th>\n      <th>mfccs7</th>\n      <th>mfccs8</th>\n      <th>...</th>\n      <th>mfccs10</th>\n      <th>mfccs11</th>\n      <th>mfccs12</th>\n      <th>mfccs13</th>\n      <th>mfccs14</th>\n      <th>mfccs15</th>\n      <th>mfccs16</th>\n      <th>mfccs17</th>\n      <th>mfccs18</th>\n      <th>mfccs19</th>\n    </tr>\n  </thead>\n  <tbody>\n    <tr>\n      <th>3473</th>\n      <td>NY</td>\n      <td>-315.684000</td>\n      <td>64.057711</td>\n      <td>11.377439</td>\n      <td>16.847353</td>\n      <td>11.260903</td>\n      <td>7.321917</td>\n      <td>-6.419385</td>\n      <td>-12.058146</td>\n      <td>-13.125508</td>\n      <td>...</td>\n      <td>-2.706626</td>\n      <td>1.355585</td>\n      <td>-1.632106</td>\n      <td>12.641259</td>\n      <td>-4.530686</td>\n      <td>-4.926789</td>\n      <td>-12.490177</td>\n      <td>9.865918</td>\n      <td>-4.825944</td>\n      <td>-0.445013</td>\n    </tr>\n    <tr>\n      <th>3785</th>\n      <td>NY</td>\n      <td>-249.983591</td>\n      <td>56.778504</td>\n      <td>17.730473</td>\n      <td>19.488555</td>\n      <td>14.532860</td>\n      <td>20.135691</td>\n      <td>-4.970480</td>\n      <td>1.838099</td>\n      <td>-7.577799</td>\n      <td>...</td>\n      <td>-4.255254</td>\n      <td>4.918007</td>\n      <td>0.476569</td>\n      <td>6.830578</td>\n      <td>2.606572</td>\n      <td>9.964627</td>\n      <td>-3.045495</td>\n      <td>5.032616</td>\n      <td>-2.974392</td>\n      <td>-0.814757</td>\n    </tr>\n    <tr>\n      <th>3488</th>\n      <td>NY</td>\n      <td>-335.964045</td>\n      <td>124.559715</td>\n      <td>-16.602319</td>\n      <td>29.681405</td>\n      <td>16.476776</td>\n      <td>-5.920455</td>\n      <td>-3.714903</td>\n      <td>-10.468281</td>\n      <td>-21.880210</td>\n      <td>...</td>\n      <td>8.459588</td>\n      <td>-1.487675</td>\n      <td>-4.613981</td>\n      <td>9.805680</td>\n      <td>-3.636208</td>\n      <td>-6.338505</td>\n      <td>-5.654107</td>\n      <td>6.897563</td>\n      <td>-3.024430</td>\n      <td>-2.330331</td>\n    </tr>\n    <tr>\n      <th>2684</th>\n      <td>NY</td>\n      <td>-347.140084</td>\n      <td>65.882821</td>\n      <td>10.532875</td>\n      <td>49.398033</td>\n      <td>33.848959</td>\n      <td>-6.854187</td>\n      <td>-3.470883</td>\n      <td>0.508582</td>\n      <td>-17.363390</td>\n      <td>...</td>\n      <td>-11.979601</td>\n      <td>5.815153</td>\n      <td>-1.598509</td>\n      <td>3.251070</td>\n      <td>-0.464801</td>\n      <td>2.296375</td>\n      <td>-10.169611</td>\n      <td>3.683526</td>\n      <td>-0.122838</td>\n      <td>3.475417</td>\n    </tr>\n    <tr>\n      <th>2901</th>\n      <td>NY</td>\n      <td>-285.799187</td>\n      <td>148.472243</td>\n      <td>-32.169172</td>\n      <td>13.709389</td>\n      <td>6.020103</td>\n      <td>-6.377009</td>\n      <td>7.605956</td>\n      <td>-5.828789</td>\n      <td>-6.214596</td>\n      <td>...</td>\n      <td>-2.803075</td>\n      <td>13.576090</td>\n      <td>-4.958839</td>\n      <td>0.794025</td>\n      <td>-1.813345</td>\n      <td>-3.828533</td>\n      <td>-13.908582</td>\n      <td>-2.264513</td>\n      <td>2.176093</td>\n      <td>-3.818351</td>\n    </tr>\n    <tr>\n      <th>...</th>\n      <td>...</td>\n      <td>...</td>\n      <td>...</td>\n      <td>...</td>\n      <td>...</td>\n      <td>...</td>\n      <td>...</td>\n      <td>...</td>\n      <td>...</td>\n      <td>...</td>\n      <td>...</td>\n      <td>...</td>\n      <td>...</td>\n      <td>...</td>\n      <td>...</td>\n      <td>...</td>\n      <td>...</td>\n      <td>...</td>\n      <td>...</td>\n      <td>...</td>\n      <td>...</td>\n    </tr>\n    <tr>\n      <th>4192</th>\n      <td>NY</td>\n      <td>-671.087438</td>\n      <td>18.319633</td>\n      <td>12.732671</td>\n      <td>10.608754</td>\n      <td>6.210724</td>\n      <td>10.476397</td>\n      <td>-2.005354</td>\n      <td>3.658579</td>\n      <td>0.847810</td>\n      <td>...</td>\n      <td>-1.561119</td>\n      <td>3.490176</td>\n      <td>2.889945</td>\n      <td>2.288380</td>\n      <td>3.016351</td>\n      <td>5.638700</td>\n      <td>-0.354110</td>\n      <td>2.457570</td>\n      <td>-1.251288</td>\n      <td>0.862678</td>\n    </tr>\n    <tr>\n      <th>2884</th>\n      <td>NY</td>\n      <td>-336.325266</td>\n      <td>124.492555</td>\n      <td>-10.363928</td>\n      <td>45.119428</td>\n      <td>13.119256</td>\n      <td>-16.040718</td>\n      <td>9.205787</td>\n      <td>-20.220642</td>\n      <td>-17.490012</td>\n      <td>...</td>\n      <td>5.554061</td>\n      <td>-3.479373</td>\n      <td>-2.915867</td>\n      <td>9.569522</td>\n      <td>-3.258782</td>\n      <td>-2.471802</td>\n      <td>-8.761307</td>\n      <td>3.768359</td>\n      <td>-3.227055</td>\n      <td>-2.483960</td>\n    </tr>\n    <tr>\n      <th>2968</th>\n      <td>NY</td>\n      <td>-306.735686</td>\n      <td>111.010031</td>\n      <td>-6.130443</td>\n      <td>20.425648</td>\n      <td>17.454349</td>\n      <td>-11.105028</td>\n      <td>0.267787</td>\n      <td>-12.879790</td>\n      <td>-10.424200</td>\n      <td>...</td>\n      <td>0.617347</td>\n      <td>1.547278</td>\n      <td>-1.901814</td>\n      <td>6.000685</td>\n      <td>-5.848395</td>\n      <td>-10.216965</td>\n      <td>-11.342336</td>\n      <td>4.557373</td>\n      <td>-3.890743</td>\n      <td>-1.810216</td>\n    </tr>\n    <tr>\n      <th>3461</th>\n      <td>NY</td>\n      <td>-369.920710</td>\n      <td>118.827614</td>\n      <td>-2.133068</td>\n      <td>40.763423</td>\n      <td>17.986700</td>\n      <td>4.911760</td>\n      <td>-3.569136</td>\n      <td>-4.817815</td>\n      <td>-15.155285</td>\n      <td>...</td>\n      <td>3.323317</td>\n      <td>7.338819</td>\n      <td>-0.717833</td>\n      <td>6.776086</td>\n      <td>-1.902774</td>\n      <td>-8.192167</td>\n      <td>-5.178996</td>\n      <td>3.168638</td>\n      <td>2.393556</td>\n      <td>-3.148887</td>\n    </tr>\n    <tr>\n      <th>3207</th>\n      <td>NY</td>\n      <td>-656.467171</td>\n      <td>37.938294</td>\n      <td>-0.631503</td>\n      <td>-0.274339</td>\n      <td>-2.588025</td>\n      <td>0.130875</td>\n      <td>3.938869</td>\n      <td>-0.204856</td>\n      <td>-3.617678</td>\n      <td>...</td>\n      <td>1.422223</td>\n      <td>4.596370</td>\n      <td>-1.896338</td>\n      <td>1.510317</td>\n      <td>-3.064696</td>\n      <td>0.182154</td>\n      <td>-0.918049</td>\n      <td>-0.872030</td>\n      <td>1.473430</td>\n      <td>-1.950104</td>\n    </tr>\n  </tbody>\n</table>\n<p>202 rows × 21 columns</p>\n</div>"
     },
     "metadata": {},
     "execution_count": 5
    }
   ],
   "source": [
    "dev[(dev.accent == 'NY')]"
   ]
  },
  {
   "cell_type": "code",
   "execution_count": 6,
   "metadata": {},
   "outputs": [
    {
     "output_type": "execute_result",
     "data": {
      "text/plain": [
       "        mfccs0      mfccs1     mfccs2     mfccs3     mfccs4     mfccs5  \\\n",
       "0  -430.947786   61.680485 -31.932617  79.238834 -20.183481 -22.802081   \n",
       "1  -700.472891   19.046094   8.391341   2.337616  -5.704956  -9.575362   \n",
       "2  -542.606415   98.640786  19.589038  28.438045  -1.711717 -26.072226   \n",
       "3  -514.336992   95.870917   1.815749  12.486512  -3.868825 -21.249552   \n",
       "4  -464.492693   99.132136 -12.336098  30.018832  -4.950762 -29.572906   \n",
       "5  -450.280040   77.507627 -56.296523   8.472119 -21.588969  -9.140000   \n",
       "6  -580.249081   69.166109 -28.905479   9.281585 -23.142154  -6.736166   \n",
       "7  -462.685399   79.194345   5.093375  35.821860  -0.301105 -32.512059   \n",
       "8  -625.774212  109.112961  10.259371  -9.517081 -11.049075  -8.322182   \n",
       "9  -485.059010   99.098618  14.170030 -10.881151 -25.807910   3.542105   \n",
       "10 -517.838847   76.035572  13.111914   8.166628  -4.689651  -8.621194   \n",
       "11 -617.348418   88.259018   4.581250  14.662248  -9.521721  -2.427816   \n",
       "12 -490.596990   42.303082  20.157765  -9.750053  -2.555871 -20.397276   \n",
       "13 -447.447051   49.827019  -2.417687  55.468377 -15.137886 -28.585554   \n",
       "\n",
       "       mfccs6     mfccs7     mfccs8     mfccs9    mfccs10    mfccs11  \\\n",
       "0    0.050954 -12.222050 -24.546997   7.738628 -25.128970  -1.218341   \n",
       "1   -3.444111  -0.565775  -9.963947   3.860685 -13.879308  -3.032145   \n",
       "2   -7.082780   3.481938 -21.765297  12.479932 -19.851553  -7.500403   \n",
       "3   -9.084166  -2.126001 -17.777816  13.386424 -19.057532 -10.118364   \n",
       "4  -22.692607  -0.775752  -3.700671   2.000574 -17.350186  -7.865829   \n",
       "5  -12.908816  -1.019539  -4.828039  14.718502 -23.206544  -6.034941   \n",
       "6   15.653108 -15.306484 -22.717843  11.364433 -13.297447 -14.818653   \n",
       "7  -19.688003  -8.753459 -24.022346  -7.783893 -18.960032  -9.006542   \n",
       "8  -11.192811 -10.827096 -15.775046   7.542876 -11.555504 -10.663518   \n",
       "9  -10.200437  -8.235600 -35.409751  19.895657 -18.127029 -22.313582   \n",
       "10 -13.057175   1.924868 -24.139911   8.836330 -16.611355 -10.314139   \n",
       "11  -3.900029  -7.877927 -25.374847   2.059723 -19.008836  -9.072830   \n",
       "12  -8.597851   9.750962 -25.060959  -2.605595 -16.674772  -2.697086   \n",
       "13  -1.201863 -19.327134 -21.598404  -4.805572 -20.343156   5.081361   \n",
       "\n",
       "      mfccs12   mfccs13    mfccs14    mfccs15    mfccs16    mfccs17   mfccs18  \\\n",
       "0  -22.287415 -6.668797  -2.746419 -13.947361  -4.576753  -7.791707 -6.151806   \n",
       "1   -4.325703  1.838993  -3.709635   9.904767   3.836077  -3.507716 -0.030687   \n",
       "2  -13.241932 -7.316071 -17.957050   3.423629  -9.485463 -16.488090  4.995169   \n",
       "3  -12.505795 -8.976092 -21.864573   6.149273  -8.304119 -20.010422  5.155509   \n",
       "4  -16.050680 -8.731781 -27.343332  -1.485498  -1.761753 -21.626753 -0.604266   \n",
       "5  -16.178328  5.779023 -14.467117  -8.920326  10.567294 -25.755446  2.342910   \n",
       "6  -10.019190 -0.916845 -12.732831  -3.045375   2.241149 -15.365500 -0.733274   \n",
       "7  -22.232131 -1.329811 -16.453609  -8.597465   0.784213 -21.009268 -4.490409   \n",
       "8  -10.505784 -5.006480  -8.638298  -4.497797  -4.641984  -8.630487 -0.496114   \n",
       "9   -6.314600 -8.634310 -11.445720  -4.851210  -8.531898  -9.544765 -4.087449   \n",
       "10 -15.692307 -5.032948 -18.396631  -0.013482   0.271776 -17.118384 -4.480691   \n",
       "11 -15.084161 -2.584937 -12.981819  -0.621802  -1.993769 -13.048063 -2.603115   \n",
       "12 -18.361220  3.566313 -14.187978   1.175909   0.137111 -18.250032  4.560771   \n",
       "13 -25.174695  5.609696 -18.464244  -2.837572  -0.611751 -23.338083 -2.543985   \n",
       "\n",
       "     mfccs19  \n",
       "0  -0.807866  \n",
       "1  -0.348879  \n",
       "2  -4.455247  \n",
       "3  -0.851716  \n",
       "4   0.714110  \n",
       "5  -6.440516  \n",
       "6   1.373419  \n",
       "7   1.770492  \n",
       "8  -6.265703  \n",
       "9  -3.042441  \n",
       "10  0.571787  \n",
       "11 -1.322241  \n",
       "12 -5.711710  \n",
       "13 -0.890544  "
      ],
      "text/html": "<div>\n<style scoped>\n    .dataframe tbody tr th:only-of-type {\n        vertical-align: middle;\n    }\n\n    .dataframe tbody tr th {\n        vertical-align: top;\n    }\n\n    .dataframe thead th {\n        text-align: right;\n    }\n</style>\n<table border=\"1\" class=\"dataframe\">\n  <thead>\n    <tr style=\"text-align: right;\">\n      <th></th>\n      <th>mfccs0</th>\n      <th>mfccs1</th>\n      <th>mfccs2</th>\n      <th>mfccs3</th>\n      <th>mfccs4</th>\n      <th>mfccs5</th>\n      <th>mfccs6</th>\n      <th>mfccs7</th>\n      <th>mfccs8</th>\n      <th>mfccs9</th>\n      <th>mfccs10</th>\n      <th>mfccs11</th>\n      <th>mfccs12</th>\n      <th>mfccs13</th>\n      <th>mfccs14</th>\n      <th>mfccs15</th>\n      <th>mfccs16</th>\n      <th>mfccs17</th>\n      <th>mfccs18</th>\n      <th>mfccs19</th>\n    </tr>\n  </thead>\n  <tbody>\n    <tr>\n      <th>0</th>\n      <td>-430.947786</td>\n      <td>61.680485</td>\n      <td>-31.932617</td>\n      <td>79.238834</td>\n      <td>-20.183481</td>\n      <td>-22.802081</td>\n      <td>0.050954</td>\n      <td>-12.222050</td>\n      <td>-24.546997</td>\n      <td>7.738628</td>\n      <td>-25.128970</td>\n      <td>-1.218341</td>\n      <td>-22.287415</td>\n      <td>-6.668797</td>\n      <td>-2.746419</td>\n      <td>-13.947361</td>\n      <td>-4.576753</td>\n      <td>-7.791707</td>\n      <td>-6.151806</td>\n      <td>-0.807866</td>\n    </tr>\n    <tr>\n      <th>1</th>\n      <td>-700.472891</td>\n      <td>19.046094</td>\n      <td>8.391341</td>\n      <td>2.337616</td>\n      <td>-5.704956</td>\n      <td>-9.575362</td>\n      <td>-3.444111</td>\n      <td>-0.565775</td>\n      <td>-9.963947</td>\n      <td>3.860685</td>\n      <td>-13.879308</td>\n      <td>-3.032145</td>\n      <td>-4.325703</td>\n      <td>1.838993</td>\n      <td>-3.709635</td>\n      <td>9.904767</td>\n      <td>3.836077</td>\n      <td>-3.507716</td>\n      <td>-0.030687</td>\n      <td>-0.348879</td>\n    </tr>\n    <tr>\n      <th>2</th>\n      <td>-542.606415</td>\n      <td>98.640786</td>\n      <td>19.589038</td>\n      <td>28.438045</td>\n      <td>-1.711717</td>\n      <td>-26.072226</td>\n      <td>-7.082780</td>\n      <td>3.481938</td>\n      <td>-21.765297</td>\n      <td>12.479932</td>\n      <td>-19.851553</td>\n      <td>-7.500403</td>\n      <td>-13.241932</td>\n      <td>-7.316071</td>\n      <td>-17.957050</td>\n      <td>3.423629</td>\n      <td>-9.485463</td>\n      <td>-16.488090</td>\n      <td>4.995169</td>\n      <td>-4.455247</td>\n    </tr>\n    <tr>\n      <th>3</th>\n      <td>-514.336992</td>\n      <td>95.870917</td>\n      <td>1.815749</td>\n      <td>12.486512</td>\n      <td>-3.868825</td>\n      <td>-21.249552</td>\n      <td>-9.084166</td>\n      <td>-2.126001</td>\n      <td>-17.777816</td>\n      <td>13.386424</td>\n      <td>-19.057532</td>\n      <td>-10.118364</td>\n      <td>-12.505795</td>\n      <td>-8.976092</td>\n      <td>-21.864573</td>\n      <td>6.149273</td>\n      <td>-8.304119</td>\n      <td>-20.010422</td>\n      <td>5.155509</td>\n      <td>-0.851716</td>\n    </tr>\n    <tr>\n      <th>4</th>\n      <td>-464.492693</td>\n      <td>99.132136</td>\n      <td>-12.336098</td>\n      <td>30.018832</td>\n      <td>-4.950762</td>\n      <td>-29.572906</td>\n      <td>-22.692607</td>\n      <td>-0.775752</td>\n      <td>-3.700671</td>\n      <td>2.000574</td>\n      <td>-17.350186</td>\n      <td>-7.865829</td>\n      <td>-16.050680</td>\n      <td>-8.731781</td>\n      <td>-27.343332</td>\n      <td>-1.485498</td>\n      <td>-1.761753</td>\n      <td>-21.626753</td>\n      <td>-0.604266</td>\n      <td>0.714110</td>\n    </tr>\n    <tr>\n      <th>5</th>\n      <td>-450.280040</td>\n      <td>77.507627</td>\n      <td>-56.296523</td>\n      <td>8.472119</td>\n      <td>-21.588969</td>\n      <td>-9.140000</td>\n      <td>-12.908816</td>\n      <td>-1.019539</td>\n      <td>-4.828039</td>\n      <td>14.718502</td>\n      <td>-23.206544</td>\n      <td>-6.034941</td>\n      <td>-16.178328</td>\n      <td>5.779023</td>\n      <td>-14.467117</td>\n      <td>-8.920326</td>\n      <td>10.567294</td>\n      <td>-25.755446</td>\n      <td>2.342910</td>\n      <td>-6.440516</td>\n    </tr>\n    <tr>\n      <th>6</th>\n      <td>-580.249081</td>\n      <td>69.166109</td>\n      <td>-28.905479</td>\n      <td>9.281585</td>\n      <td>-23.142154</td>\n      <td>-6.736166</td>\n      <td>15.653108</td>\n      <td>-15.306484</td>\n      <td>-22.717843</td>\n      <td>11.364433</td>\n      <td>-13.297447</td>\n      <td>-14.818653</td>\n      <td>-10.019190</td>\n      <td>-0.916845</td>\n      <td>-12.732831</td>\n      <td>-3.045375</td>\n      <td>2.241149</td>\n      <td>-15.365500</td>\n      <td>-0.733274</td>\n      <td>1.373419</td>\n    </tr>\n    <tr>\n      <th>7</th>\n      <td>-462.685399</td>\n      <td>79.194345</td>\n      <td>5.093375</td>\n      <td>35.821860</td>\n      <td>-0.301105</td>\n      <td>-32.512059</td>\n      <td>-19.688003</td>\n      <td>-8.753459</td>\n      <td>-24.022346</td>\n      <td>-7.783893</td>\n      <td>-18.960032</td>\n      <td>-9.006542</td>\n      <td>-22.232131</td>\n      <td>-1.329811</td>\n      <td>-16.453609</td>\n      <td>-8.597465</td>\n      <td>0.784213</td>\n      <td>-21.009268</td>\n      <td>-4.490409</td>\n      <td>1.770492</td>\n    </tr>\n    <tr>\n      <th>8</th>\n      <td>-625.774212</td>\n      <td>109.112961</td>\n      <td>10.259371</td>\n      <td>-9.517081</td>\n      <td>-11.049075</td>\n      <td>-8.322182</td>\n      <td>-11.192811</td>\n      <td>-10.827096</td>\n      <td>-15.775046</td>\n      <td>7.542876</td>\n      <td>-11.555504</td>\n      <td>-10.663518</td>\n      <td>-10.505784</td>\n      <td>-5.006480</td>\n      <td>-8.638298</td>\n      <td>-4.497797</td>\n      <td>-4.641984</td>\n      <td>-8.630487</td>\n      <td>-0.496114</td>\n      <td>-6.265703</td>\n    </tr>\n    <tr>\n      <th>9</th>\n      <td>-485.059010</td>\n      <td>99.098618</td>\n      <td>14.170030</td>\n      <td>-10.881151</td>\n      <td>-25.807910</td>\n      <td>3.542105</td>\n      <td>-10.200437</td>\n      <td>-8.235600</td>\n      <td>-35.409751</td>\n      <td>19.895657</td>\n      <td>-18.127029</td>\n      <td>-22.313582</td>\n      <td>-6.314600</td>\n      <td>-8.634310</td>\n      <td>-11.445720</td>\n      <td>-4.851210</td>\n      <td>-8.531898</td>\n      <td>-9.544765</td>\n      <td>-4.087449</td>\n      <td>-3.042441</td>\n    </tr>\n    <tr>\n      <th>10</th>\n      <td>-517.838847</td>\n      <td>76.035572</td>\n      <td>13.111914</td>\n      <td>8.166628</td>\n      <td>-4.689651</td>\n      <td>-8.621194</td>\n      <td>-13.057175</td>\n      <td>1.924868</td>\n      <td>-24.139911</td>\n      <td>8.836330</td>\n      <td>-16.611355</td>\n      <td>-10.314139</td>\n      <td>-15.692307</td>\n      <td>-5.032948</td>\n      <td>-18.396631</td>\n      <td>-0.013482</td>\n      <td>0.271776</td>\n      <td>-17.118384</td>\n      <td>-4.480691</td>\n      <td>0.571787</td>\n    </tr>\n    <tr>\n      <th>11</th>\n      <td>-617.348418</td>\n      <td>88.259018</td>\n      <td>4.581250</td>\n      <td>14.662248</td>\n      <td>-9.521721</td>\n      <td>-2.427816</td>\n      <td>-3.900029</td>\n      <td>-7.877927</td>\n      <td>-25.374847</td>\n      <td>2.059723</td>\n      <td>-19.008836</td>\n      <td>-9.072830</td>\n      <td>-15.084161</td>\n      <td>-2.584937</td>\n      <td>-12.981819</td>\n      <td>-0.621802</td>\n      <td>-1.993769</td>\n      <td>-13.048063</td>\n      <td>-2.603115</td>\n      <td>-1.322241</td>\n    </tr>\n    <tr>\n      <th>12</th>\n      <td>-490.596990</td>\n      <td>42.303082</td>\n      <td>20.157765</td>\n      <td>-9.750053</td>\n      <td>-2.555871</td>\n      <td>-20.397276</td>\n      <td>-8.597851</td>\n      <td>9.750962</td>\n      <td>-25.060959</td>\n      <td>-2.605595</td>\n      <td>-16.674772</td>\n      <td>-2.697086</td>\n      <td>-18.361220</td>\n      <td>3.566313</td>\n      <td>-14.187978</td>\n      <td>1.175909</td>\n      <td>0.137111</td>\n      <td>-18.250032</td>\n      <td>4.560771</td>\n      <td>-5.711710</td>\n    </tr>\n    <tr>\n      <th>13</th>\n      <td>-447.447051</td>\n      <td>49.827019</td>\n      <td>-2.417687</td>\n      <td>55.468377</td>\n      <td>-15.137886</td>\n      <td>-28.585554</td>\n      <td>-1.201863</td>\n      <td>-19.327134</td>\n      <td>-21.598404</td>\n      <td>-4.805572</td>\n      <td>-20.343156</td>\n      <td>5.081361</td>\n      <td>-25.174695</td>\n      <td>5.609696</td>\n      <td>-18.464244</td>\n      <td>-2.837572</td>\n      <td>-0.611751</td>\n      <td>-23.338083</td>\n      <td>-2.543985</td>\n      <td>-0.890544</td>\n    </tr>\n  </tbody>\n</table>\n</div>"
     },
     "metadata": {},
     "execution_count": 6
    }
   ],
   "source": [
    "# dev_to_pred = dev.loc[4192, :].drop('accent', axis=0)\n",
    "# dev_to_pred = np.array(dev_to_pred).reshape(1,-1)\n",
    "dev_to_pred = pd.read_pickle('/home/andriy/diploma/CNN/cnn/australian_sample_trimmed.pkl')\n",
    "dev_to_pred"
   ]
  },
  {
   "cell_type": "code",
   "execution_count": 7,
   "metadata": {},
   "outputs": [
    {
     "output_type": "stream",
     "name": "stdout",
     "text": [
      "Counter({'Canadian': 10, 'English': 2, 'American': 1, 'Australian': 1})\n"
     ]
    }
   ],
   "source": [
    "scaler = MinMaxScaler()\n",
    "X_train = scaler.fit_transform(X_train)\n",
    "dev_to_pred = scaler.transform(dev_to_pred)\n",
    "rf = RandomForestClassifier()\n",
    "rf.fit(X_train, y_train)\n",
    "prediction = rf.predict(dev_to_pred)\n",
    "print(Counter(prediction))"
   ]
  }
 ]
}